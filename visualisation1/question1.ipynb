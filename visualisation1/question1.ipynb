{
 "cells": [
  {
   "cell_type": "markdown",
   "metadata": {},
   "source": [
    "# Data manipulation for visualisation 1 "
   ]
  },
  {
   "cell_type": "code",
   "execution_count": 1,
   "metadata": {},
   "outputs": [],
   "source": [
    "import pandas as pd"
   ]
  },
  {
   "cell_type": "code",
   "execution_count": 2,
   "metadata": {},
   "outputs": [],
   "source": [
    "url = \"https://raw.githubusercontent.com/jldbc/coffee-quality-database/master/data/arabica_data_cleaned.csv\""
   ]
  },
  {
   "cell_type": "code",
   "execution_count": 3,
   "metadata": {},
   "outputs": [],
   "source": [
    "ratingsDF = pd.read_csv(url)"
   ]
  },
  {
   "cell_type": "code",
   "execution_count": 4,
   "metadata": {},
   "outputs": [
    {
     "name": "stdout",
     "output_type": "stream",
     "text": [
      "<class 'pandas.core.frame.DataFrame'>\n",
      "RangeIndex: 1311 entries, 0 to 1310\n",
      "Data columns (total 44 columns):\n",
      "Unnamed: 0               1311 non-null int64\n",
      "Species                  1311 non-null object\n",
      "Owner                    1304 non-null object\n",
      "Country.of.Origin        1310 non-null object\n",
      "Farm.Name                955 non-null object\n",
      "Lot.Number               270 non-null object\n",
      "Mill                     1001 non-null object\n",
      "ICO.Number               1165 non-null object\n",
      "Company                  1102 non-null object\n",
      "Altitude                 1088 non-null object\n",
      "Region                   1254 non-null object\n",
      "Producer                 1081 non-null object\n",
      "Number.of.Bags           1311 non-null int64\n",
      "Bag.Weight               1311 non-null object\n",
      "In.Country.Partner       1311 non-null object\n",
      "Harvest.Year             1264 non-null object\n",
      "Grading.Date             1311 non-null object\n",
      "Owner.1                  1304 non-null object\n",
      "Variety                  1110 non-null object\n",
      "Processing.Method        1159 non-null object\n",
      "Aroma                    1311 non-null float64\n",
      "Flavor                   1311 non-null float64\n",
      "Aftertaste               1311 non-null float64\n",
      "Acidity                  1311 non-null float64\n",
      "Body                     1311 non-null float64\n",
      "Balance                  1311 non-null float64\n",
      "Uniformity               1311 non-null float64\n",
      "Clean.Cup                1311 non-null float64\n",
      "Sweetness                1311 non-null float64\n",
      "Cupper.Points            1311 non-null float64\n",
      "Total.Cup.Points         1311 non-null float64\n",
      "Moisture                 1311 non-null float64\n",
      "Category.One.Defects     1311 non-null int64\n",
      "Quakers                  1310 non-null float64\n",
      "Color                    1095 non-null object\n",
      "Category.Two.Defects     1311 non-null int64\n",
      "Expiration               1311 non-null object\n",
      "Certification.Body       1311 non-null object\n",
      "Certification.Address    1311 non-null object\n",
      "Certification.Contact    1311 non-null object\n",
      "unit_of_measurement      1311 non-null object\n",
      "altitude_low_meters      1084 non-null float64\n",
      "altitude_high_meters     1084 non-null float64\n",
      "altitude_mean_meters     1084 non-null float64\n",
      "dtypes: float64(16), int64(4), object(24)\n",
      "memory usage: 450.7+ KB\n"
     ]
    }
   ],
   "source": [
    "ratingsDF.info()"
   ]
  },
  {
   "cell_type": "code",
   "execution_count": 5,
   "metadata": {},
   "outputs": [],
   "source": [
    "#TASK 1\n",
    "ratingsDF = ratingsDF.rename(\n",
    "    columns={\n",
    "        'Country.of.Origin':'Country',\n",
    "            }\n",
    ")"
   ]
  },
  {
   "cell_type": "code",
   "execution_count": 6,
   "metadata": {},
   "outputs": [],
   "source": [
    "#TASK 2 Analysis"
   ]
  },
  {
   "cell_type": "code",
   "execution_count": 7,
   "metadata": {},
   "outputs": [
    {
     "data": {
      "text/plain": [
       "Mexico                          236\n",
       "Colombia                        183\n",
       "Guatemala                       181\n",
       "Brazil                          132\n",
       "Taiwan                           75\n",
       "United States (Hawaii)           73\n",
       "Honduras                         53\n",
       "Costa Rica                       51\n",
       "Ethiopia                         44\n",
       "Tanzania, United Republic Of     40\n",
       "Thailand                         32\n",
       "Uganda                           26\n",
       "Nicaragua                        26\n",
       "Kenya                            25\n",
       "El Salvador                      21\n",
       "Indonesia                        20\n",
       "China                            16\n",
       "Malawi                           11\n",
       "Peru                             10\n",
       "Myanmar                           8\n",
       "United States                     8\n",
       "Vietnam                           7\n",
       "Haiti                             6\n",
       "Philippines                       5\n",
       "United States (Puerto Rico)       4\n",
       "Panama                            4\n",
       "Laos                              3\n",
       "Burundi                           2\n",
       "Mauritius                         1\n",
       "Rwanda                            1\n",
       "Zambia                            1\n",
       "Ecuador                           1\n",
       "India                             1\n",
       "Papua New Guinea                  1\n",
       "Japan                             1\n",
       "Cote d?Ivoire                     1\n",
       "Name: Country, dtype: int64"
      ]
     },
     "execution_count": 7,
     "metadata": {},
     "output_type": "execute_result"
    }
   ],
   "source": [
    "ratingsDF['Country'].value_counts()"
   ]
  },
  {
   "cell_type": "code",
   "execution_count": 8,
   "metadata": {},
   "outputs": [],
   "source": [
    "#TASK 2 & TASK 3\n",
    "\n",
    "def isNaN(value):\n",
    "    return value != value\n",
    "\n",
    "country_frequency_series = ratingsDF['Country'].value_counts()\n",
    "for index, row in ratingsDF.iterrows():\n",
    "        country = row['Country']\n",
    "        if not(isNaN(row['Country'])):\n",
    "            count_of_this_country = country_frequency_series[country]\n",
    "            if count_of_this_country<20:\n",
    "                ratingsDF.drop(index, inplace=True)\n",
    "        else:\n",
    "            ratingsDF.drop(index, inplace=True) #Drop items that do not have value for Country (Task 3)"
   ]
  },
  {
   "cell_type": "code",
   "execution_count": 9,
   "metadata": {},
   "outputs": [
    {
     "data": {
      "text/plain": [
       "(1218, 44)"
      ]
     },
     "execution_count": 9,
     "metadata": {},
     "output_type": "execute_result"
    }
   ],
   "source": [
    "ratingsDF.shape"
   ]
  },
  {
   "cell_type": "code",
   "execution_count": 10,
   "metadata": {},
   "outputs": [
    {
     "data": {
      "text/plain": [
       "Mexico                          236\n",
       "Colombia                        183\n",
       "Guatemala                       181\n",
       "Brazil                          132\n",
       "Taiwan                           75\n",
       "United States (Hawaii)           73\n",
       "Honduras                         53\n",
       "Costa Rica                       51\n",
       "Ethiopia                         44\n",
       "Tanzania, United Republic Of     40\n",
       "Thailand                         32\n",
       "Nicaragua                        26\n",
       "Uganda                           26\n",
       "Kenya                            25\n",
       "El Salvador                      21\n",
       "Indonesia                        20\n",
       "Name: Country, dtype: int64"
      ]
     },
     "execution_count": 10,
     "metadata": {},
     "output_type": "execute_result"
    }
   ],
   "source": [
    "ratingsDF['Country'].value_counts()"
   ]
  },
  {
   "cell_type": "code",
   "execution_count": 1,
   "metadata": {},
   "outputs": [],
   "source": [
    "#TASK 4"
   ]
  },
  {
   "cell_type": "code",
   "execution_count": 12,
   "metadata": {},
   "outputs": [
    {
     "data": {
      "text/plain": [
       "Mexico                          236\n",
       "Colombia                        183\n",
       "Guatemala                       181\n",
       "Brazil                          132\n",
       "Taiwan                           75\n",
       "United States (Hawaii)           73\n",
       "Honduras                         53\n",
       "Costa Rica                       51\n",
       "Ethiopia                         44\n",
       "Tanzania, United Republic Of     40\n",
       "Thailand                         32\n",
       "Nicaragua                        26\n",
       "Uganda                           26\n",
       "Kenya                            25\n",
       "El Salvador                      21\n",
       "Indonesia                        20\n",
       "Name: Country, dtype: int64"
      ]
     },
     "execution_count": 12,
     "metadata": {},
     "output_type": "execute_result"
    }
   ],
   "source": [
    "ratingsDF['Country'].value_counts()"
   ]
  },
  {
   "cell_type": "code",
   "execution_count": 13,
   "metadata": {},
   "outputs": [],
   "source": [
    "ratingsDF.replace(\"Tanzania, United Republic Of\", \"Tanzania\",inplace = True)"
   ]
  },
  {
   "cell_type": "code",
   "execution_count": 14,
   "metadata": {},
   "outputs": [
    {
     "data": {
      "text/plain": [
       "Mexico                    236\n",
       "Colombia                  183\n",
       "Guatemala                 181\n",
       "Brazil                    132\n",
       "Taiwan                     75\n",
       "United States (Hawaii)     73\n",
       "Honduras                   53\n",
       "Costa Rica                 51\n",
       "Ethiopia                   44\n",
       "Tanzania                   40\n",
       "Thailand                   32\n",
       "Nicaragua                  26\n",
       "Uganda                     26\n",
       "Kenya                      25\n",
       "El Salvador                21\n",
       "Indonesia                  20\n",
       "Name: Country, dtype: int64"
      ]
     },
     "execution_count": 14,
     "metadata": {},
     "output_type": "execute_result"
    }
   ],
   "source": [
    "ratingsDF['Country'].value_counts()"
   ]
  },
  {
   "cell_type": "code",
   "execution_count": 15,
   "metadata": {},
   "outputs": [],
   "source": [
    "#Now save the processed dataset in a CSV file\n",
    "ratingsDF.to_csv(\"arabica_data_cleaned_for_visualisation1.csv\")"
   ]
  }
 ],
 "metadata": {
  "kernelspec": {
   "display_name": "Python 3",
   "language": "python",
   "name": "python3"
  },
  "language_info": {
   "codemirror_mode": {
    "name": "ipython",
    "version": 3
   },
   "file_extension": ".py",
   "mimetype": "text/x-python",
   "name": "python",
   "nbconvert_exporter": "python",
   "pygments_lexer": "ipython3",
   "version": "3.7.3"
  }
 },
 "nbformat": 4,
 "nbformat_minor": 2
}
