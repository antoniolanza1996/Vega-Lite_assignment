{
 "cells": [
  {
   "cell_type": "markdown",
   "metadata": {},
   "source": [
    "# Data manipulation for visualisation 2"
   ]
  },
  {
   "cell_type": "code",
   "execution_count": 1,
   "metadata": {},
   "outputs": [],
   "source": [
    "import pandas as pd"
   ]
  },
  {
   "cell_type": "code",
   "execution_count": 2,
   "metadata": {},
   "outputs": [],
   "source": [
    "url = \"https://raw.githubusercontent.com/jldbc/coffee-quality-database/master/data/arabica_data_cleaned.csv\""
   ]
  },
  {
   "cell_type": "code",
   "execution_count": 3,
   "metadata": {},
   "outputs": [],
   "source": [
    "ratingsDF = pd.read_csv(url)"
   ]
  },
  {
   "cell_type": "code",
   "execution_count": 4,
   "metadata": {},
   "outputs": [
    {
     "name": "stdout",
     "output_type": "stream",
     "text": [
      "<class 'pandas.core.frame.DataFrame'>\n",
      "RangeIndex: 1311 entries, 0 to 1310\n",
      "Data columns (total 44 columns):\n",
      "Unnamed: 0               1311 non-null int64\n",
      "Species                  1311 non-null object\n",
      "Owner                    1304 non-null object\n",
      "Country.of.Origin        1310 non-null object\n",
      "Farm.Name                955 non-null object\n",
      "Lot.Number               270 non-null object\n",
      "Mill                     1001 non-null object\n",
      "ICO.Number               1165 non-null object\n",
      "Company                  1102 non-null object\n",
      "Altitude                 1088 non-null object\n",
      "Region                   1254 non-null object\n",
      "Producer                 1081 non-null object\n",
      "Number.of.Bags           1311 non-null int64\n",
      "Bag.Weight               1311 non-null object\n",
      "In.Country.Partner       1311 non-null object\n",
      "Harvest.Year             1264 non-null object\n",
      "Grading.Date             1311 non-null object\n",
      "Owner.1                  1304 non-null object\n",
      "Variety                  1110 non-null object\n",
      "Processing.Method        1159 non-null object\n",
      "Aroma                    1311 non-null float64\n",
      "Flavor                   1311 non-null float64\n",
      "Aftertaste               1311 non-null float64\n",
      "Acidity                  1311 non-null float64\n",
      "Body                     1311 non-null float64\n",
      "Balance                  1311 non-null float64\n",
      "Uniformity               1311 non-null float64\n",
      "Clean.Cup                1311 non-null float64\n",
      "Sweetness                1311 non-null float64\n",
      "Cupper.Points            1311 non-null float64\n",
      "Total.Cup.Points         1311 non-null float64\n",
      "Moisture                 1311 non-null float64\n",
      "Category.One.Defects     1311 non-null int64\n",
      "Quakers                  1310 non-null float64\n",
      "Color                    1095 non-null object\n",
      "Category.Two.Defects     1311 non-null int64\n",
      "Expiration               1311 non-null object\n",
      "Certification.Body       1311 non-null object\n",
      "Certification.Address    1311 non-null object\n",
      "Certification.Contact    1311 non-null object\n",
      "unit_of_measurement      1311 non-null object\n",
      "altitude_low_meters      1084 non-null float64\n",
      "altitude_high_meters     1084 non-null float64\n",
      "altitude_mean_meters     1084 non-null float64\n",
      "dtypes: float64(16), int64(4), object(24)\n",
      "memory usage: 450.7+ KB\n"
     ]
    }
   ],
   "source": [
    "ratingsDF.info()"
   ]
  },
  {
   "cell_type": "code",
   "execution_count": 5,
   "metadata": {},
   "outputs": [],
   "source": [
    "#TASK 1 & TASK 2\n",
    "ratingsDF = ratingsDF.rename(\n",
    "    columns={\n",
    "        \"Country.of.Origin\":\"Country\",\n",
    "        \"Grading.Date\":\"GradingDate\"\n",
    "            }\n",
    ")"
   ]
  },
  {
   "cell_type": "code",
   "execution_count": 6,
   "metadata": {},
   "outputs": [
    {
     "data": {
      "text/plain": [
       "0            April 4th, 2015\n",
       "1            April 4th, 2015\n",
       "2             May 31st, 2010\n",
       "3           March 26th, 2015\n",
       "4            April 4th, 2015\n",
       "5        September 3rd, 2013\n",
       "6       September 17th, 2012\n",
       "7        September 2nd, 2010\n",
       "8        September 2nd, 2010\n",
       "9           March 30th, 2015\n",
       "10          March 27th, 2015\n",
       "11          March 13th, 2015\n",
       "12          March 13th, 2015\n",
       "13            May 31st, 2010\n",
       "14         August 31st, 2010\n",
       "15          March 13th, 2015\n",
       "16            May 31st, 2010\n",
       "17           June 16th, 2010\n",
       "18           April 7th, 2016\n",
       "19          March 25th, 2015\n",
       "20          March 13th, 2015\n",
       "21           April 2nd, 2014\n",
       "22           July 26th, 2012\n",
       "23          March 13th, 2015\n",
       "24       September 3rd, 2013\n",
       "25        December 3rd, 2011\n",
       "26           June 16th, 2010\n",
       "27           June 26th, 2014\n",
       "28            May 18th, 2017\n",
       "29            May 18th, 2016\n",
       "                ...         \n",
       "1281    September 13th, 2012\n",
       "1282        August 1st, 2012\n",
       "1283       January 9th, 2012\n",
       "1284       January 5th, 2012\n",
       "1285        March 29th, 2013\n",
       "1286        March 13th, 2014\n",
       "1287          June 6th, 2013\n",
       "1288    September 10th, 2012\n",
       "1289    September 17th, 2012\n",
       "1290        August 1st, 2012\n",
       "1291         April 6th, 2012\n",
       "1292     December 28th, 2015\n",
       "1293        April 26th, 2014\n",
       "1294           May 8th, 2014\n",
       "1295         March 3rd, 2014\n",
       "1296        March 10th, 2014\n",
       "1297       August 23rd, 2011\n",
       "1298      February 3rd, 2015\n",
       "1299    September 10th, 2012\n",
       "1300         July 11th, 2012\n",
       "1301           May 5th, 2014\n",
       "1302      October 27th, 2017\n",
       "1303          May 15th, 2014\n",
       "1304          May 15th, 2014\n",
       "1305          May 15th, 2014\n",
       "1306    September 17th, 2012\n",
       "1307          May 24th, 2012\n",
       "1308          June 6th, 2017\n",
       "1309          May 24th, 2012\n",
       "1310        April 28th, 2017\n",
       "Name: GradingDate, Length: 1311, dtype: object"
      ]
     },
     "execution_count": 6,
     "metadata": {},
     "output_type": "execute_result"
    }
   ],
   "source": [
    "#Before\n",
    "ratingsDF['GradingDate']"
   ]
  },
  {
   "cell_type": "code",
   "execution_count": 7,
   "metadata": {},
   "outputs": [],
   "source": [
    "#TASK 3\n",
    "import re\n",
    "def date_format(s):                                             \n",
    "    return re.sub(\"(st|nd|rd|th),\", \"\", s)\n",
    "\n",
    "for index in range(ratingsDF.shape[0]):\n",
    "        ratingsDF.loc[index, 'GradingDate'] = date_format(ratingsDF.loc[index, 'GradingDate']) #April 4th, 2015 to April 4 2015"
   ]
  },
  {
   "cell_type": "code",
   "execution_count": 8,
   "metadata": {},
   "outputs": [
    {
     "data": {
      "text/plain": [
       "0            April 4 2015\n",
       "1            April 4 2015\n",
       "2             May 31 2010\n",
       "3           March 26 2015\n",
       "4            April 4 2015\n",
       "5        September 3 2013\n",
       "6       September 17 2012\n",
       "7        September 2 2010\n",
       "8        September 2 2010\n",
       "9           March 30 2015\n",
       "10          March 27 2015\n",
       "11          March 13 2015\n",
       "12          March 13 2015\n",
       "13            May 31 2010\n",
       "14         August 31 2010\n",
       "15          March 13 2015\n",
       "16            May 31 2010\n",
       "17           June 16 2010\n",
       "18           April 7 2016\n",
       "19          March 25 2015\n",
       "20          March 13 2015\n",
       "21           April 2 2014\n",
       "22           July 26 2012\n",
       "23          March 13 2015\n",
       "24       September 3 2013\n",
       "25        December 3 2011\n",
       "26           June 16 2010\n",
       "27           June 26 2014\n",
       "28            May 18 2017\n",
       "29            May 18 2016\n",
       "              ...        \n",
       "1281    September 13 2012\n",
       "1282        August 1 2012\n",
       "1283       January 9 2012\n",
       "1284       January 5 2012\n",
       "1285        March 29 2013\n",
       "1286        March 13 2014\n",
       "1287          June 6 2013\n",
       "1288    September 10 2012\n",
       "1289    September 17 2012\n",
       "1290        August 1 2012\n",
       "1291         April 6 2012\n",
       "1292     December 28 2015\n",
       "1293        April 26 2014\n",
       "1294           May 8 2014\n",
       "1295         March 3 2014\n",
       "1296        March 10 2014\n",
       "1297       August 23 2011\n",
       "1298      February 3 2015\n",
       "1299    September 10 2012\n",
       "1300         July 11 2012\n",
       "1301           May 5 2014\n",
       "1302      October 27 2017\n",
       "1303          May 15 2014\n",
       "1304          May 15 2014\n",
       "1305          May 15 2014\n",
       "1306    September 17 2012\n",
       "1307          May 24 2012\n",
       "1308          June 6 2017\n",
       "1309          May 24 2012\n",
       "1310        April 28 2017\n",
       "Name: GradingDate, Length: 1311, dtype: object"
      ]
     },
     "execution_count": 8,
     "metadata": {},
     "output_type": "execute_result"
    }
   ],
   "source": [
    "#After\n",
    "ratingsDF['GradingDate']"
   ]
  },
  {
   "cell_type": "code",
   "execution_count": 9,
   "metadata": {},
   "outputs": [],
   "source": [
    "#Now save the processed dataset in a CSV file\n",
    "ratingsDF.to_csv(\"arabica_data_cleaned_for_visualisation2.csv\")"
   ]
  }
 ],
 "metadata": {
  "kernelspec": {
   "display_name": "Python 3",
   "language": "python",
   "name": "python3"
  },
  "language_info": {
   "codemirror_mode": {
    "name": "ipython",
    "version": 3
   },
   "file_extension": ".py",
   "mimetype": "text/x-python",
   "name": "python",
   "nbconvert_exporter": "python",
   "pygments_lexer": "ipython3",
   "version": "3.7.3"
  }
 },
 "nbformat": 4,
 "nbformat_minor": 2
}
