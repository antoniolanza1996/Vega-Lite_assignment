{
 "cells": [
  {
   "cell_type": "markdown",
   "metadata": {},
   "source": [
    "# Data manipulation for visualisation 3"
   ]
  },
  {
   "cell_type": "code",
   "execution_count": 1,
   "metadata": {},
   "outputs": [],
   "source": [
    "import pandas as pd"
   ]
  },
  {
   "cell_type": "code",
   "execution_count": 2,
   "metadata": {},
   "outputs": [],
   "source": [
    "url = \"https://raw.githubusercontent.com/jldbc/coffee-quality-database/master/data/arabica_data_cleaned.csv\""
   ]
  },
  {
   "cell_type": "code",
   "execution_count": 3,
   "metadata": {},
   "outputs": [],
   "source": [
    "ratingsDF = pd.read_csv(url)"
   ]
  },
  {
   "cell_type": "code",
   "execution_count": 4,
   "metadata": {},
   "outputs": [
    {
     "name": "stdout",
     "output_type": "stream",
     "text": [
      "<class 'pandas.core.frame.DataFrame'>\n",
      "RangeIndex: 1311 entries, 0 to 1310\n",
      "Data columns (total 44 columns):\n",
      "Unnamed: 0               1311 non-null int64\n",
      "Species                  1311 non-null object\n",
      "Owner                    1304 non-null object\n",
      "Country.of.Origin        1310 non-null object\n",
      "Farm.Name                955 non-null object\n",
      "Lot.Number               270 non-null object\n",
      "Mill                     1001 non-null object\n",
      "ICO.Number               1165 non-null object\n",
      "Company                  1102 non-null object\n",
      "Altitude                 1088 non-null object\n",
      "Region                   1254 non-null object\n",
      "Producer                 1081 non-null object\n",
      "Number.of.Bags           1311 non-null int64\n",
      "Bag.Weight               1311 non-null object\n",
      "In.Country.Partner       1311 non-null object\n",
      "Harvest.Year             1264 non-null object\n",
      "Grading.Date             1311 non-null object\n",
      "Owner.1                  1304 non-null object\n",
      "Variety                  1110 non-null object\n",
      "Processing.Method        1159 non-null object\n",
      "Aroma                    1311 non-null float64\n",
      "Flavor                   1311 non-null float64\n",
      "Aftertaste               1311 non-null float64\n",
      "Acidity                  1311 non-null float64\n",
      "Body                     1311 non-null float64\n",
      "Balance                  1311 non-null float64\n",
      "Uniformity               1311 non-null float64\n",
      "Clean.Cup                1311 non-null float64\n",
      "Sweetness                1311 non-null float64\n",
      "Cupper.Points            1311 non-null float64\n",
      "Total.Cup.Points         1311 non-null float64\n",
      "Moisture                 1311 non-null float64\n",
      "Category.One.Defects     1311 non-null int64\n",
      "Quakers                  1310 non-null float64\n",
      "Color                    1095 non-null object\n",
      "Category.Two.Defects     1311 non-null int64\n",
      "Expiration               1311 non-null object\n",
      "Certification.Body       1311 non-null object\n",
      "Certification.Address    1311 non-null object\n",
      "Certification.Contact    1311 non-null object\n",
      "unit_of_measurement      1311 non-null object\n",
      "altitude_low_meters      1084 non-null float64\n",
      "altitude_high_meters     1084 non-null float64\n",
      "altitude_mean_meters     1084 non-null float64\n",
      "dtypes: float64(16), int64(4), object(24)\n",
      "memory usage: 450.7+ KB\n"
     ]
    }
   ],
   "source": [
    "ratingsDF.info()"
   ]
  },
  {
   "cell_type": "code",
   "execution_count": 5,
   "metadata": {},
   "outputs": [],
   "source": [
    "#TASK 1, 2 & 3\n",
    "ratingsDF = ratingsDF.rename(\n",
    "    columns={\n",
    "        \"Clean.Cup\":\"Clean Cup\",\n",
    "        \"Cupper.Points\":\"Cupper Points\",\n",
    "        \"Total.Cup.Points\":\"Total Cup Points\"\n",
    "        }\n",
    ")"
   ]
  },
  {
   "cell_type": "code",
   "execution_count": 6,
   "metadata": {},
   "outputs": [],
   "source": [
    "#Now save the processed dataset in a CSV file\n",
    "ratingsDF.to_csv(\"arabica_data_cleaned_for_visualisation3.csv\")"
   ]
  }
 ],
 "metadata": {
  "kernelspec": {
   "display_name": "Python 3",
   "language": "python",
   "name": "python3"
  },
  "language_info": {
   "codemirror_mode": {
    "name": "ipython",
    "version": 3
   },
   "file_extension": ".py",
   "mimetype": "text/x-python",
   "name": "python",
   "nbconvert_exporter": "python",
   "pygments_lexer": "ipython3",
   "version": "3.7.3"
  }
 },
 "nbformat": 4,
 "nbformat_minor": 2
}
